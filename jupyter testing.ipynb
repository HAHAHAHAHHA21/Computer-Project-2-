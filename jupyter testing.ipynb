{
 "cells": [
  {
   "cell_type": "code",
   "id": "initial_id",
   "metadata": {
    "collapsed": true,
    "ExecuteTime": {
     "end_time": "2025-03-10T15:51:33.633054Z",
     "start_time": "2025-03-10T15:51:33.624034Z"
    }
   },
   "source": [
    "import numpy as np\n",
    "import math\n",
    "\n",
    "from mandelbrot import mandelbrot_generator\n",
    "\n",
    "\n",
    "def get_escape_time(c: complex, max_iterations: int) -> int | None:\n",
    "    \"\"\"Returns the escape time of a mandelbrot sequence with initial term c\n",
    "\n",
    "    Parameters:\n",
    "        c [complex]: the initial term\n",
    "        max_iterations [int]: the maximum number of iterations\n",
    "\n",
    "    Returns:\n",
    "        int: the number of iterations within max_iterations for |z_n| > 2\n",
    "        None: if |z_n| <= 2 for n = max_iterations\n",
    "\n",
    "    \"\"\"\n",
    "    if abs(mandelbrot_generator(c,max_iterations)) <= 2:\n",
    "        return None\n",
    "    else:\n",
    "        for i in range(max_iterations + 1):\n",
    "            if abs(mandelbrot_generator(c,i)) > 2:\n",
    "                return i\n",
    "\n",
    "\n",
    "print(get_escape_time(2+1j, 5))\n",
    "print(get_escape_time(1+1j, 10))\n",
    "print(get_escape_time(0.5+0.5j, 3))\n",
    "print(get_escape_time(0.5+0.5j, 4))\n",
    "print(get_escape_time(0.38+0.25j, 100))\n",
    "\n"
   ],
   "outputs": [
    {
     "name": "stdout",
     "output_type": "stream",
     "text": [
      "0\n",
      "1\n",
      "None\n",
      "4\n",
      "56\n"
     ]
    }
   ],
   "execution_count": 21
  },
  {
   "metadata": {
    "ExecuteTime": {
     "end_time": "2025-03-09T21:45:27.547498Z",
     "start_time": "2025-03-09T21:45:27.537183Z"
    }
   },
   "cell_type": "code",
   "source": [
    "def mandelbrot_generator(x: complex, y: int) -> complex:\n",
    "        \"\"\"Generates the y'th term of the mandelbrot sequence with initial term x\n",
    "\n",
    "        Parameters:\n",
    "            x [complex]: the initial term\n",
    "            y [int]: the term to generate\n",
    "\n",
    "        Returns:\n",
    "            complex: the y'th term of the mandelbrot sequence\n",
    "\n",
    "        \"\"\"\n",
    "\n",
    "        if y == 0:\n",
    "            return x\n",
    "        else:\n",
    "            return mandelbrot_generator(x, y-1) ** 2 + x\n",
    "\n",
    "mandelbrot_generator(-2,11)"
   ],
   "id": "113f151dc1704d26",
   "outputs": [
    {
     "data": {
      "text/plain": [
       "2"
      ]
     },
     "execution_count": 12,
     "metadata": {},
     "output_type": "execute_result"
    }
   ],
   "execution_count": 12
  },
  {
   "metadata": {
    "ExecuteTime": {
     "end_time": "2025-03-10T16:03:28.141108Z",
     "start_time": "2025-03-10T16:03:28.130993Z"
    }
   },
   "cell_type": "code",
   "source": [
    "def get_complex_grid(top_left = complex, bottom_right = complex, step = float) -> np.ndarray:\n",
    "    \"\"\" Returns a grid of complex numbers with start point top_left, end point bottom_right and increases by step\"\n",
    "\n",
    "    Parameters:\n",
    "        top_left [complex]:\n",
    "            the start point\n",
    "        bottom_right [complex]:\n",
    "            the end point, not included in grid bottom_right.real must be greater than top_left.real\n",
    "        step:\n",
    "            moving one column right increases top_left.real by step\n",
    "            moving one row down decreases top_left.imag by step\n",
    "\n",
    "    Returns:\n",
    "        np.ndarray [complex]:\n",
    "            the grid of complex numbers\n",
    "\n",
    "    \"\"\"\n",
    "\n",
    "\n",
    "    x1 = top_left.real           #variable assignments\n",
    "    x2 = bottom_right.real\n",
    "    y1 = top_left.imag\n",
    "    y2 = bottom_right.imag\n",
    "\n",
    "    m = math.floor((x2 - x1)/ step)\n",
    "    n = math.floor((y1 - y2) / step)\n",
    "    array = np.zeros((n, m), dtype = complex)\n",
    "    array[:,:] = top_left       #assign every entry to top_left\n",
    "\n",
    "    imag_vect = np.arange(n).reshape(n,1)\n",
    "    imag_vect = imag_vect * step\n",
    "    imag_vect = imag_vect * (0 - 1j)\n",
    "    real_vect = np.arange(m, dtype = complex) * step #broadcasting\n",
    "\n",
    "    grid_step = real_vect + imag_vect #broadcasting\n",
    "    return array + grid_step\n",
    "\n",
    "\n",
    "\n",
    "\n"
   ],
   "id": "cb9f3a252089656a",
   "outputs": [],
   "execution_count": 51
  },
  {
   "metadata": {
    "ExecuteTime": {
     "end_time": "2025-03-10T16:03:29.861445Z",
     "start_time": "2025-03-10T16:03:29.839569Z"
    }
   },
   "cell_type": "code",
   "source": "get_complex_grid(-1+1j, 0 + 0j, 0.25)",
   "id": "59a8450caea93f91",
   "outputs": [
    {
     "data": {
      "text/plain": [
       "array([[-1.  +1.j  , -0.75+1.j  , -0.5 +1.j  , -0.25+1.j  ],\n",
       "       [-1.  +0.75j, -0.75+0.75j, -0.5 +0.75j, -0.25+0.75j],\n",
       "       [-1.  +0.5j , -0.75+0.5j , -0.5 +0.5j , -0.25+0.5j ],\n",
       "       [-1.  +0.25j, -0.75+0.25j, -0.5 +0.25j, -0.25+0.25j]])"
      ]
     },
     "execution_count": 52,
     "metadata": {},
     "output_type": "execute_result"
    }
   ],
   "execution_count": 52
  }
 ],
 "metadata": {
  "kernelspec": {
   "display_name": "Python 3",
   "language": "python",
   "name": "python3"
  },
  "language_info": {
   "codemirror_mode": {
    "name": "ipython",
    "version": 2
   },
   "file_extension": ".py",
   "mimetype": "text/x-python",
   "name": "python",
   "nbconvert_exporter": "python",
   "pygments_lexer": "ipython2",
   "version": "2.7.6"
  }
 },
 "nbformat": 4,
 "nbformat_minor": 5
}
