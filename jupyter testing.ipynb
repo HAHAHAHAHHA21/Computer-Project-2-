{
 "cells": [
  {
   "cell_type": "code",
   "id": "initial_id",
   "metadata": {
    "collapsed": true,
    "ExecuteTime": {
     "end_time": "2025-03-09T03:37:21.170856Z",
     "start_time": "2025-03-09T03:37:21.158970Z"
    }
   },
   "source": [
    "import numpy as np\n",
    "import math\n",
    "\n",
    "def get_escape_time(c: complex, max_iterations: int) -> int | None:\n",
    "    if abs(mandelbrot_generator(c,max_iterations)) <= 2:\n",
    "        return None\n",
    "    else:\n",
    "        for i in range(max_iterations + 1):\n",
    "            if abs(mandelbrot_generator(c,i)) > 2:\n",
    "                return i\n",
    "\n",
    "\n"
   ],
   "outputs": [
    {
     "data": {
      "text/plain": [
       "9.367164201652814"
      ]
     },
     "execution_count": 45,
     "metadata": {},
     "output_type": "execute_result"
    }
   ],
   "execution_count": 45
  },
  {
   "metadata": {
    "ExecuteTime": {
     "end_time": "2025-03-09T03:07:34.575792Z",
     "start_time": "2025-03-09T03:07:34.568347Z"
    }
   },
   "cell_type": "code",
   "source": [
    "def mandelbrot_generator(x: complex, y: int) -> complex:\n",
    "        \"\"\"Generates the y'th term of the mandelbrot sequence with initial term x\n",
    "\n",
    "        Parameters:\n",
    "            x [complex]: the initial term\n",
    "            y [int]: the term to generate\n",
    "\n",
    "        Returns:\n",
    "            complex: the y'th term of the mandelbrot sequence\n",
    "\n",
    "        \"\"\"\n",
    "\n",
    "        if y == 0:\n",
    "            return x\n",
    "        else:\n",
    "            return mandelbrot_generator(x, y-1) ** 2 + x\n",
    "\n",
    "mandelbrot_generator(0.5+0.5j,5)"
   ],
   "id": "113f151dc1704d26",
   "outputs": [
    {
     "data": {
      "text/plain": [
       "(9.486587524414062+9.328857421875j)"
      ]
     },
     "execution_count": 20,
     "metadata": {},
     "output_type": "execute_result"
    }
   ],
   "execution_count": 20
  }
 ],
 "metadata": {
  "kernelspec": {
   "display_name": "Python 3",
   "language": "python",
   "name": "python3"
  },
  "language_info": {
   "codemirror_mode": {
    "name": "ipython",
    "version": 2
   },
   "file_extension": ".py",
   "mimetype": "text/x-python",
   "name": "python",
   "nbconvert_exporter": "python",
   "pygments_lexer": "ipython2",
   "version": "2.7.6"
  }
 },
 "nbformat": 4,
 "nbformat_minor": 5
}
