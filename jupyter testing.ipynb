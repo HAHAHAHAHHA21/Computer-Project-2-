{
 "cells": [
  {
   "cell_type": "code",
   "id": "initial_id",
   "metadata": {
    "collapsed": true,
    "ExecuteTime": {
     "end_time": "2025-03-09T07:13:56.579729Z",
     "start_time": "2025-03-09T07:13:56.569997Z"
    }
   },
   "source": [
    "import numpy as np\n",
    "import math\n",
    "\n",
    "from numpy.compat import asstr\n",
    "\n",
    "from mandelbrot import mandelbrot_generator\n",
    "\n",
    "\n",
    "def get_escape_time(c: complex, max_iterations: int) -> int | None:\n",
    "    \"\"\"Returns the escape time of a mandelbrot sequence with initial term c\n",
    "\n",
    "    Parameters:\n",
    "        c [complex]: the initial term\n",
    "        max_iterations [int]: the maximum number of iterations\n",
    "\n",
    "    Returns:\n",
    "        int: the number of iterations within max_iterations for |z_n| > 2\n",
    "        None: if |z_n| <= 2 for n = max_iterations\n",
    "\n",
    "    \"\"\"\n",
    "    if abs(mandelbrot_generator(c,max_iterations)) <= 2:\n",
    "        return None\n",
    "    else:\n",
    "        for i in range(max_iterations + 1):\n",
    "            if abs(mandelbrot_generator(c,i)) > 2:\n",
    "                return i\n",
    "\n",
    "\n",
    "get_escape_time(0.5, 10)\n",
    "mandelbrot_generator(5,5)\n"
   ],
   "outputs": [
    {
     "data": {
      "text/plain": [
       "449986245140985954219030"
      ]
     },
     "execution_count": 13,
     "metadata": {},
     "output_type": "execute_result"
    }
   ],
   "execution_count": 13
  },
  {
   "metadata": {
    "ExecuteTime": {
     "end_time": "2025-03-09T07:13:03.593528Z",
     "start_time": "2025-03-09T07:13:03.583035Z"
    }
   },
   "cell_type": "code",
   "source": [
    "def mandelbrot_generator(x: complex, y: int) -> complex:\n",
    "        \"\"\"Generates the y'th term of the mandelbrot sequence with initial term x\n",
    "\n",
    "        Parameters:\n",
    "            x [complex]: the initial term\n",
    "            y [int]: the term to generate\n",
    "\n",
    "        Returns:\n",
    "            complex: the y'th term of the mandelbrot sequence\n",
    "\n",
    "        \"\"\"\n",
    "\n",
    "        if y == 0:\n",
    "            return x\n",
    "        else:\n",
    "            return mandelbrot_generator(x, y-1) ** 2 + x\n",
    "\n",
    "mandelbrot_generator(-2,11)"
   ],
   "id": "113f151dc1704d26",
   "outputs": [
    {
     "data": {
      "text/plain": [
       "2"
      ]
     },
     "execution_count": 9,
     "metadata": {},
     "output_type": "execute_result"
    }
   ],
   "execution_count": 9
  }
 ],
 "metadata": {
  "kernelspec": {
   "display_name": "Python 3",
   "language": "python",
   "name": "python3"
  },
  "language_info": {
   "codemirror_mode": {
    "name": "ipython",
    "version": 2
   },
   "file_extension": ".py",
   "mimetype": "text/x-python",
   "name": "python",
   "nbconvert_exporter": "python",
   "pygments_lexer": "ipython2",
   "version": "2.7.6"
  }
 },
 "nbformat": 4,
 "nbformat_minor": 5
}
